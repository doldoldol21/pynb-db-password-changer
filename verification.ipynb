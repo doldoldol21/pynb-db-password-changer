{
 "cells": [
  {
   "cell_type": "markdown",
   "metadata": {
    "collapsed": false
   },
   "source": [
    "### 비밀번호 변경이 필요한 DB 확인\n",
    "secret.md 파일 필요"
   ]
  },
  {
   "cell_type": "code",
   "execution_count": 46,
   "metadata": {
    "ExecuteTime": {
     "end_time": "2023-08-10T04:24:44.139745Z",
     "start_time": "2023-08-10T04:24:44.136513Z"
    },
    "collapsed": false
   },
   "outputs": [
    {
     "name": "stdout",
     "output_type": "stream",
     "text": [
      "[🔵]beta-jupiter DB 남은 일자: 90일\n",
      "[🔵]beta-universe DB 남은 일자: 90일\n",
      "[🔵]dev-datalake DB 남은 일자: 90일\n",
      "[🔵]dev-jupiter DB 남은 일자: 90일\n",
      "[🔵]dev-universe DB 남은 일자: 90일\n",
      "[🔵]dev_combine DB 남은 일자: 90일\n",
      "[❓]prod-combine 업데이트 정보 없음\n",
      "[❓]prod-jupiter-coupon 업데이트 정보 없음\n",
      "[❓]prod-jupiter-etc 업데이트 정보 없음\n",
      "[🔵]prod-jupiter-member DB 남은 일자: 90일\n",
      "[🔵]prod-jupiter-order DB 남은 일자: 90일\n",
      "[❓]prod-jupiter-payment 업데이트 정보 없음\n",
      "[❓]prod-jupiter-product 업데이트 정보 없음\n",
      "[🔵]prod-jupiter-settle DB 남은 일자: 90일\n",
      "[❓]prod-jupiter-subscription 업데이트 정보 없음\n",
      "[❓]prod-universe-cms 업데이트 정보 없음\n",
      "[❓]prod-universe-etc 업데이트 정보 없음\n",
      "[🔵]prod-universe-member DB 남은 일자: 90일\n",
      "[❓]prod-universe-order 업데이트 정보 없음\n",
      "[🔵]prod-universe-settle DB 남은 일자: 90일\n"
     ]
    }
   ],
   "source": [
    "# @hide_code\n",
    "#region\n",
    "from datetime import timedelta, datetime, date\n",
    "\n",
    "md_file = \"secret.md\"\n",
    "check_list = {}\n",
    "current_date = date.today()\n",
    "info = \"🔵\"\n",
    "warning = \"🟡\"\n",
    "error = \"🔴\"\n",
    "unknown = \"❓\"\n",
    "try:\n",
    "    # 파일 읽기\n",
    "    with open(md_file, \"r\") as f:\n",
    "        markdown_content = f.read()\n",
    "        lines = markdown_content.strip().split(\"\\n\")\n",
    "        if len(lines) > 2:\n",
    "            for row in lines[2:]:\n",
    "                values = row.split(\"|\")\n",
    "                if len(values) == 8:  # 예상되는 테이블 형식에 맞는지 확인\n",
    "                    name = values[1].strip()\n",
    "                    update_date_val = values[6].strip()\n",
    "                    if update_date_val:\n",
    "                        update_date = datetime.strptime(values[6].strip(), \"%Y-%m-%d\").date()\n",
    "                        left_days = ((timedelta(days=90) + update_date) - current_date).days\n",
    "                        if left_days >= 0:\n",
    "                            print(f\"[{info if left_days > 20 else warning}]{name} DB 남은 일자: {left_days}일\")\n",
    "                        else:\n",
    "                            print(f\"[{error}]{name} DB 변경 일자 만료: {left_days}일\")\n",
    "                    else:\n",
    "                        print(f\"[{unknown}]{name} 업데이트 정보 없음\")\n",
    "\n",
    "\n",
    "except (Exception,) as e:\n",
    "    print(repr(e))\n",
    "\n",
    "#endregion"
   ]
  }
 ],
 "metadata": {
  "kernelspec": {
   "display_name": "Python 3",
   "language": "python",
   "name": "python3"
  },
  "language_info": {
   "codemirror_mode": {
    "name": "ipython",
    "version": 2
   },
   "file_extension": ".py",
   "mimetype": "text/x-python",
   "name": "python",
   "nbconvert_exporter": "python",
   "pygments_lexer": "ipython2",
   "version": "2.7.6"
  }
 },
 "nbformat": 4,
 "nbformat_minor": 0
}
