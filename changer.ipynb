{
 "cells": [
  {
   "cell_type": "markdown",
   "metadata": {
    "collapsed": false,
    "jupyter": {
     "outputs_hidden": false
    }
   },
   "source": [
    "### (1) 라이브러리 설치"
   ]
  },
  {
   "cell_type": "code",
   "execution_count": null,
   "metadata": {
    "colab": {
     "base_uri": "https://localhost:8080/"
    },
    "executionInfo": {
     "elapsed": 5817,
     "status": "ok",
     "timestamp": 1691139912169,
     "user": {
      "displayName": "박돌돌",
      "userId": "13643288997082817542"
     },
     "user_tz": -540
    },
    "id": "IifLf4d-yv1U",
    "outputId": "f6cdec58-b4b9-4b7d-8048-91cb38e75b12"
   },
   "outputs": [],
   "source": [
    "#region install library\n",
    "!pip install ipywidgets\n",
    "!pip install pymysql\n",
    "!pip install cryptography\n",
    "#endregion"
   ]
  },
  {
   "cell_type": "markdown",
   "metadata": {
    "collapsed": false,
    "jupyter": {
     "outputs_hidden": false
    }
   },
   "source": [
    "### (2) DB 목록 초기화, 변경할 DB 선택"
   ]
  },
  {
   "cell_type": "markdown",
   "metadata": {},
   "source": [
    "(😀)여기 db list 붙여넣기 해주세요 \n",
    "\n",
    "code cell 에서 ctal+a -> ctal+v"
   ]
  },
  {
   "cell_type": "code",
   "execution_count": null,
   "metadata": {},
   "outputs": [],
   "source": [
    "#region \n",
    "db_list = {\n",
    "    # example\n",
    "    # \"db_name_1\" : {\n",
    "    #       \"host\": \"HOST_URL\",\n",
    "    #       \"port\": 3306\n",
    "    # },\n",
    "    # \"db_name_2\" : {\n",
    "    #       \"host\": \"HOST_URL\",\n",
    "    #       \"port\": 3306\n",
    "    # },\n",
    "}\n",
    "#endregion"
   ]
  },
  {
   "cell_type": "markdown",
   "metadata": {},
   "source": [
    "#### ------------------------------------------------------------------------------------------"
   ]
  },
  {
   "cell_type": "code",
   "execution_count": null,
   "metadata": {
    "collapsed": false,
    "jupyter": {
     "outputs_hidden": false
    }
   },
   "outputs": [],
   "source": [
    "# @hide_code\n",
    "#region init\n",
    "import ipywidgets as widgets\n",
    "\n",
    "md_file = \"secret.md\"\n",
    "md_db_list = {}\n",
    "try:\n",
    "    # 파일 읽기\n",
    "    with open(md_file, \"r\") as f:\n",
    "        markdown_content = f.read()\n",
    "        lines = markdown_content.strip().split(\"\\n\")\n",
    "        if len(lines) > 2:\n",
    "            header = lines[0]\n",
    "            for row in lines[2:]:\n",
    "                values = row.split(\"|\")\n",
    "                if len(values) == 8:  # 예상되는 테이블 형식에 맞는지 확인\n",
    "                    name = values[1].strip()\n",
    "                    host = values[2].strip()\n",
    "                    port = values[3].strip()\n",
    "                    username = values[4].strip()\n",
    "                    password = values[5].strip()\n",
    "                    update_date = values[6].strip()\n",
    "                    md_db_list[name] = {\"host\": host, \"port\": port, \"username\": username, \"password\": password,\n",
    "                                        \"update_date\": update_date}\n",
    "except (Exception,):\n",
    "    pass\n",
    "\n",
    "# 체크박스들을 담을 리스트 생성\n",
    "checkboxes = []\n",
    "sorted_db_keys = sorted(db_list.keys())\n",
    "# 체크박스 생성 및 리스트에 추가\n",
    "for k in sorted_db_keys:\n",
    "    checkbox = widgets.Checkbox(value=True, description=k)\n",
    "    checkboxes.append(checkbox)\n",
    "\n",
    "# \"Select All\" 체크박스 생성\n",
    "select_all_checkbox = widgets.Checkbox(value=True, description='Select All')\n",
    "\n",
    "\n",
    "# \"Select All\" 체크박스의 값이 변경될 때 호출될 함수 정의\n",
    "def select_all_change(change):\n",
    "    for checkbox in checkboxes:\n",
    "        checkbox.value = change.new\n",
    "\n",
    "\n",
    "# \"Select All\" 체크박스의 값이 변경되면 select_all_change 함수 호출\n",
    "select_all_checkbox.observe(select_all_change, 'value')\n",
    "\n",
    "# 체크박스들을 그리드로 배치\n",
    "checkbox_grid = widgets.GridBox(checkboxes, layout=widgets.Layout(grid_template_columns=\"repeat(3, auto)\"))\n",
    "\n",
    "# \"Select All\" 체크박스와 체크박스 그리드를 세로로 배치\n",
    "widgets.VBox([select_all_checkbox, checkbox_grid])\n",
    "\n",
    "#endregion"
   ]
  },
  {
   "cell_type": "markdown",
   "metadata": {
    "collapsed": false,
    "jupyter": {
     "outputs_hidden": false
    }
   },
   "source": [
    "### (3) 계정 정보"
   ]
  },
  {
   "cell_type": "code",
   "execution_count": null,
   "metadata": {
    "collapsed": false,
    "jupyter": {
     "outputs_hidden": false
    }
   },
   "outputs": [],
   "source": [
    "# @hide_code\n",
    "#region input account\n",
    "target_db_list = {}\n",
    "for checkbox in checkboxes:\n",
    "    if not checkbox.value:\n",
    "        continue\n",
    "    if checkbox.description in db_list:\n",
    "        target_db_list[checkbox.description] = db_list[checkbox.description]\n",
    "\n",
    "if md_db_list:\n",
    "    exists_md = True\n",
    "    new_password = input(f\"new password: \")\n",
    "    print(\"new password: \", new_password)\n",
    "else:\n",
    "    exists_md = False\n",
    "    username = input(f\"current username: \")\n",
    "    password = input(f\"current password: \")\n",
    "    new_password = input(f\"new password: \")\n",
    "\n",
    "    print(\"current username: \", username)\n",
    "    print(\"current password: \", password)\n",
    "    print(\"new password: \", new_password)\n",
    "\n",
    "#endregion"
   ]
  },
  {
   "cell_type": "markdown",
   "metadata": {
    "collapsed": false,
    "jupyter": {
     "outputs_hidden": false
    }
   },
   "source": [
    "### (4) 비밀번호 변경 프로세스"
   ]
  },
  {
   "cell_type": "code",
   "execution_count": null,
   "metadata": {
    "id": "pTVe5FvIwWEP"
   },
   "outputs": [],
   "source": [
    "# @hide_code\n",
    "#region change passwords\n",
    "from IPython.display import display, Markdown\n",
    "import pymysql\n",
    "import datetime\n",
    "\n",
    "\n",
    "def change_password(db_info: dict, username: str, password: str, new_password: str):\n",
    "    try:\n",
    "        with pymysql.connect(host=db_info[\"host\"], port=db_info[\"port\"], user=username, password=password,\n",
    "                             connect_timeout=3) as connection:\n",
    "            with connection.cursor() as cursor:\n",
    "                query = f\"ALTER USER '{username}'@'%' IDENTIFIED BY '{new_password}'\"\n",
    "                cursor.execute(query)\n",
    "            connection.commit()\n",
    "            return True, \"\"\n",
    "    except (Exception,) as e:\n",
    "        return False, repr(e)\n",
    "\n",
    "\n",
    "result_db_list = {}\n",
    "for k, v in target_db_list.items():\n",
    "    if exists_md:\n",
    "        username = md_db_list[k][\"username\"]\n",
    "        password = md_db_list[k][\"password\"]\n",
    "\n",
    "    success, err_msg = change_password(db_info=v, username=username, password=password, new_password=new_password)\n",
    "    if success:\n",
    "        print(f\"{k} 비밀번호 변경 성공 !!\")\n",
    "    else:\n",
    "        print(f\"{k} 비밀번호 변경 실패 .. {err_msg}\")\n",
    "\n",
    "    if k in md_db_list and not success:\n",
    "        update_date = md_db_list[k][\"update_date\"]\n",
    "    elif not success:\n",
    "        update_date = \"\"\n",
    "    else:\n",
    "        update_date = datetime.date.today().strftime(\"%Y-%m-%d\")\n",
    "\n",
    "    new_account_info = {\n",
    "        \"username\": username,\n",
    "        \"password\": new_password if success else password,\n",
    "        \"update_date\": update_date,\n",
    "        \"success\": success\n",
    "    }\n",
    "    new_account_info.update(v)\n",
    "    result_db_list[k] = new_account_info\n",
    "\n",
    "md_db_list.update(result_db_list)\n",
    "sorted_keys = sorted(md_db_list.keys())\n",
    "\n",
    "# 테이블 헤더 생성\n",
    "table_md = \"| Name                      | Host                                                                                               | Port | Username | Password   | Last Update Date |\\n\"\n",
    "table_md += \"|---------------------------|----------------------------------------------------------------------------------------------------|------|----------|------------|------------------|\\n\"\n",
    "\n",
    "# 각 딕셔너리의 값을 테이블 형식으로 변환\n",
    "for k in sorted_keys:\n",
    "    v = md_db_list[k]\n",
    "    host = v[\"host\"]\n",
    "    port = v[\"port\"]\n",
    "    username = v[\"username\"]\n",
    "    password = v[\"password\"]\n",
    "    update_date = v[\"update_date\"]\n",
    "    table_md += f\"| {k} | {host} | {port} | {username} | {password} | {update_date} |\\n\"\n",
    "\n",
    "# 마크다운 파일로 저장\n",
    "with open(md_file, \"w+\") as f:\n",
    "    f.write(table_md)\n",
    "    print(\"✅파일 저장 성공\", md_file)\n",
    "\n",
    "\n",
    "with open(md_file, \"r\") as f:\n",
    "    md_content = f.read()\n",
    "    display(Markdown(md_content))\n",
    "\n",
    "#endregion"
   ]
  }
 ],
 "metadata": {
  "colab": {
   "authorship_tag": "ABX9TyMTKdJniCY0X8o3CAjui7Ys",
   "provenance": []
  },
  "kernelspec": {
   "display_name": "Python 3 (ipykernel)",
   "language": "python",
   "name": "python3"
  },
  "language_info": {
   "codemirror_mode": {
    "name": "ipython",
    "version": 3
   },
   "file_extension": ".py",
   "mimetype": "text/x-python",
   "name": "python",
   "nbconvert_exporter": "python",
   "pygments_lexer": "ipython3",
   "version": "3.9.6"
  },
  "widgets": {
   "application/vnd.jupyter.widget-state+json": {
    "00b299ccf25b43a9baf4023bdb592459": {
     "model_module": "@jupyter-widgets/controls",
     "model_module_version": "1.5.0",
     "model_name": "DescriptionStyleModel",
     "state": {
      "_model_module": "@jupyter-widgets/controls",
      "_model_module_version": "1.5.0",
      "_model_name": "DescriptionStyleModel",
      "_view_count": null,
      "_view_module": "@jupyter-widgets/base",
      "_view_module_version": "1.2.0",
      "_view_name": "StyleView",
      "description_width": ""
     }
    },
    "cbb51c41ec4745dbb1a89a13bc537ff6": {
     "model_module": "@jupyter-widgets/base",
     "model_module_version": "1.2.0",
     "model_name": "LayoutModel",
     "state": {
      "_model_module": "@jupyter-widgets/base",
      "_model_module_version": "1.2.0",
      "_model_name": "LayoutModel",
      "_view_count": null,
      "_view_module": "@jupyter-widgets/base",
      "_view_module_version": "1.2.0",
      "_view_name": "LayoutView",
      "align_content": null,
      "align_items": null,
      "align_self": null,
      "border": null,
      "bottom": null,
      "display": null,
      "flex": null,
      "flex_flow": null,
      "grid_area": null,
      "grid_auto_columns": null,
      "grid_auto_flow": null,
      "grid_auto_rows": null,
      "grid_column": null,
      "grid_gap": null,
      "grid_row": null,
      "grid_template_areas": null,
      "grid_template_columns": null,
      "grid_template_rows": null,
      "height": null,
      "justify_content": null,
      "justify_items": null,
      "left": null,
      "margin": null,
      "max_height": null,
      "max_width": null,
      "min_height": null,
      "min_width": null,
      "object_fit": null,
      "object_position": null,
      "order": null,
      "overflow": null,
      "overflow_x": null,
      "overflow_y": null,
      "padding": null,
      "right": null,
      "top": null,
      "visibility": null,
      "width": null
     }
    },
    "e63011efb17d4a25b0e90bdccd6d0c20": {
     "model_module": "@jupyter-widgets/controls",
     "model_module_version": "1.5.0",
     "model_name": "CheckboxModel",
     "state": {
      "_dom_classes": [],
      "_model_module": "@jupyter-widgets/controls",
      "_model_module_version": "1.5.0",
      "_model_name": "CheckboxModel",
      "_view_count": null,
      "_view_module": "@jupyter-widgets/controls",
      "_view_module_version": "1.5.0",
      "_view_name": "CheckboxView",
      "description": "dev-combine",
      "description_tooltip": null,
      "disabled": false,
      "indent": true,
      "layout": "IPY_MODEL_cbb51c41ec4745dbb1a89a13bc537ff6",
      "style": "IPY_MODEL_00b299ccf25b43a9baf4023bdb592459",
      "value": false
     }
    }
   }
  }
 },
 "nbformat": 4,
 "nbformat_minor": 4
}
